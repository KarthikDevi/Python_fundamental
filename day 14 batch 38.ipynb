{
 "cells": [
  {
   "cell_type": "code",
   "execution_count": 1,
   "metadata": {},
   "outputs": [],
   "source": [
    "class Greet:\n",
    "    \"\"\"creating a greet class for describing the user and greeting\"\"\"\n",
    "    def create_user(self,username):\n",
    "        self.username = username\n",
    "    def display_user (self):\n",
    "        print (self.username)\n",
    "    def greet_user(self):\n",
    "        print (f\"hello, {self.username}\")\n",
    "    \n",
    "b = Greet()"
   ]
  },
  {
   "cell_type": "code",
   "execution_count": 2,
   "metadata": {},
   "outputs": [],
   "source": [
    "b.create_user ('Devi')"
   ]
  },
  {
   "cell_type": "raw",
   "metadata": {},
   "source": []
  },
  {
   "cell_type": "code",
   "execution_count": 3,
   "metadata": {},
   "outputs": [
    {
     "name": "stdout",
     "output_type": "stream",
     "text": [
      "hello, Devi\n"
     ]
    }
   ],
   "source": [
    "b.greet_user()"
   ]
  },
  {
   "cell_type": "code",
   "execution_count": 23,
   "metadata": {},
   "outputs": [],
   "source": [
    "class Dog :\n",
    "    \"\"\"creating a dog class with its command\"\"\"\n",
    "    \n",
    "    def __init__ (self,name,age):\n",
    "        self.name = name\n",
    "        self.age = age \n",
    "    def sit (self):\n",
    "        print (f\"{self.name} is now sitting on the command\")\n",
    "    def jump (self):\n",
    "        print (f\"{self.name} is now jumping on the command\")\n",
    "    def roll_over (self):\n",
    "        print(f\"{self.name} is now rollowing over on the comment\")\n",
    "              \n",
    "a= Dog ('Subramani', 5)\n",
    "        "
   ]
  },
  {
   "cell_type": "code",
   "execution_count": 20,
   "metadata": {},
   "outputs": [
    {
     "name": "stdout",
     "output_type": "stream",
     "text": [
      "Subramani is now sitting on the command\n"
     ]
    }
   ],
   "source": [
    "a.sit()"
   ]
  },
  {
   "cell_type": "code",
   "execution_count": 21,
   "metadata": {},
   "outputs": [
    {
     "name": "stdout",
     "output_type": "stream",
     "text": [
      "Subramani is now jumping on the command\n"
     ]
    }
   ],
   "source": [
    "a.jump()"
   ]
  },
  {
   "cell_type": "code",
   "execution_count": 24,
   "metadata": {},
   "outputs": [
    {
     "name": "stdout",
     "output_type": "stream",
     "text": [
      "Subramani is now rollowing over on the comment\n"
     ]
    }
   ],
   "source": [
    "a. roll_over()"
   ]
  },
  {
   "cell_type": "code",
   "execution_count": null,
   "metadata": {},
   "outputs": [],
   "source": []
  },
  {
   "cell_type": "code",
   "execution_count": null,
   "metadata": {},
   "outputs": [],
   "source": []
  },
  {
   "cell_type": "code",
   "execution_count": null,
   "metadata": {},
   "outputs": [],
   "source": []
  },
  {
   "cell_type": "code",
   "execution_count": null,
   "metadata": {},
   "outputs": [],
   "source": []
  },
  {
   "cell_type": "code",
   "execution_count": null,
   "metadata": {},
   "outputs": [],
   "source": []
  }
 ],
 "metadata": {
  "kernelspec": {
   "display_name": "Python 3",
   "language": "python",
   "name": "python3"
  },
  "language_info": {
   "codemirror_mode": {
    "name": "ipython",
    "version": 3
   },
   "file_extension": ".py",
   "mimetype": "text/x-python",
   "name": "python",
   "nbconvert_exporter": "python",
   "pygments_lexer": "ipython3",
   "version": "3.8.5"
  }
 },
 "nbformat": 4,
 "nbformat_minor": 4
}
